{
 "cells": [
  {
   "cell_type": "markdown",
   "metadata": {},
   "source": [
    "# Take care of yourself! =)\n",
    "\n",
    "On this kernel, I'll try to find the best features with two different methodologies: \n",
    "1. **Intuition** from correlation data.\n",
    "2. **SelectKBest** algorithm.\n",
    "\n",
    "Which one is better? What will the difference between performances be?"
   ]
  },
  {
   "cell_type": "code",
   "execution_count": 1,
   "metadata": {},
   "outputs": [
    {
     "name": "stdout",
     "output_type": "stream",
     "text": [
      "/kaggle/input/covid19/dataset.xlsx\n"
     ]
    }
   ],
   "source": [
    "import os\n",
    "for dirname, _, filenames in os.walk('/kaggle/input'):\n",
    "    for filename in filenames:\n",
    "        print(os.path.join(dirname, filename))"
   ]
  },
  {
   "cell_type": "code",
   "execution_count": 2,
   "metadata": {
    "_cell_guid": "79c7e3d0-c299-4dcb-8224-4455121ee9b0",
    "_uuid": "d629ff2d2480ee46fbb7e2d37f6b5fab8052498a"
   },
   "outputs": [],
   "source": [
    "# packages \n",
    "import pandas as pd\n",
    "import numpy as np\n",
    "import matplotlib.pyplot as plt\n",
    "import seaborn as sns\n",
    "from sklearn.feature_selection import SelectKBest, chi2\n",
    "from sklearn.ensemble import ExtraTreesRegressor\n",
    "from sklearn.preprocessing import MinMaxScaler\n",
    "from sklearn.model_selection import train_test_split\n",
    "from sklearn.svm import LinearSVC\n",
    "from sklearn.experimental import enable_iterative_imputer\n",
    "from sklearn.impute import IterativeImputer\n",
    "from sklearn.model_selection import cross_val_score\n",
    "from sklearn.ensemble import ExtraTreesRegressor"
   ]
  },
  {
   "cell_type": "code",
   "execution_count": 3,
   "metadata": {},
   "outputs": [],
   "source": [
    "# loading file\n",
    "df = pd.read_excel(r'/kaggle/input/covid19/dataset.xlsx')"
   ]
  },
  {
   "cell_type": "code",
   "execution_count": 4,
   "metadata": {},
   "outputs": [
    {
     "data": {
      "text/html": [
       "<div>\n",
       "<style scoped>\n",
       "    .dataframe tbody tr th:only-of-type {\n",
       "        vertical-align: middle;\n",
       "    }\n",
       "\n",
       "    .dataframe tbody tr th {\n",
       "        vertical-align: top;\n",
       "    }\n",
       "\n",
       "    .dataframe thead th {\n",
       "        text-align: right;\n",
       "    }\n",
       "</style>\n",
       "<table border=\"1\" class=\"dataframe\">\n",
       "  <thead>\n",
       "    <tr style=\"text-align: right;\">\n",
       "      <th></th>\n",
       "      <th>Patient ID</th>\n",
       "      <th>Patient age quantile</th>\n",
       "      <th>SARS-Cov-2 exam result</th>\n",
       "      <th>Patient addmited to regular ward (1=yes, 0=no)</th>\n",
       "      <th>Patient addmited to semi-intensive unit (1=yes, 0=no)</th>\n",
       "      <th>Patient addmited to intensive care unit (1=yes, 0=no)</th>\n",
       "      <th>Hematocrit</th>\n",
       "      <th>Hemoglobin</th>\n",
       "      <th>Platelets</th>\n",
       "      <th>Mean platelet volume</th>\n",
       "      <th>...</th>\n",
       "      <th>Hb saturation (arterial blood gases)</th>\n",
       "      <th>pCO2 (arterial blood gas analysis)</th>\n",
       "      <th>Base excess (arterial blood gas analysis)</th>\n",
       "      <th>pH (arterial blood gas analysis)</th>\n",
       "      <th>Total CO2 (arterial blood gas analysis)</th>\n",
       "      <th>HCO3 (arterial blood gas analysis)</th>\n",
       "      <th>pO2 (arterial blood gas analysis)</th>\n",
       "      <th>Arteiral Fio2</th>\n",
       "      <th>Phosphor</th>\n",
       "      <th>ctO2 (arterial blood gas analysis)</th>\n",
       "    </tr>\n",
       "  </thead>\n",
       "  <tbody>\n",
       "    <tr>\n",
       "      <th>0</th>\n",
       "      <td>44477f75e8169d2</td>\n",
       "      <td>13</td>\n",
       "      <td>negative</td>\n",
       "      <td>0</td>\n",
       "      <td>0</td>\n",
       "      <td>0</td>\n",
       "      <td>NaN</td>\n",
       "      <td>NaN</td>\n",
       "      <td>NaN</td>\n",
       "      <td>NaN</td>\n",
       "      <td>...</td>\n",
       "      <td>NaN</td>\n",
       "      <td>NaN</td>\n",
       "      <td>NaN</td>\n",
       "      <td>NaN</td>\n",
       "      <td>NaN</td>\n",
       "      <td>NaN</td>\n",
       "      <td>NaN</td>\n",
       "      <td>NaN</td>\n",
       "      <td>NaN</td>\n",
       "      <td>NaN</td>\n",
       "    </tr>\n",
       "    <tr>\n",
       "      <th>1</th>\n",
       "      <td>126e9dd13932f68</td>\n",
       "      <td>17</td>\n",
       "      <td>negative</td>\n",
       "      <td>0</td>\n",
       "      <td>0</td>\n",
       "      <td>0</td>\n",
       "      <td>0.236515</td>\n",
       "      <td>-0.02234</td>\n",
       "      <td>-0.517413</td>\n",
       "      <td>0.010677</td>\n",
       "      <td>...</td>\n",
       "      <td>NaN</td>\n",
       "      <td>NaN</td>\n",
       "      <td>NaN</td>\n",
       "      <td>NaN</td>\n",
       "      <td>NaN</td>\n",
       "      <td>NaN</td>\n",
       "      <td>NaN</td>\n",
       "      <td>NaN</td>\n",
       "      <td>NaN</td>\n",
       "      <td>NaN</td>\n",
       "    </tr>\n",
       "    <tr>\n",
       "      <th>2</th>\n",
       "      <td>a46b4402a0e5696</td>\n",
       "      <td>8</td>\n",
       "      <td>negative</td>\n",
       "      <td>0</td>\n",
       "      <td>0</td>\n",
       "      <td>0</td>\n",
       "      <td>NaN</td>\n",
       "      <td>NaN</td>\n",
       "      <td>NaN</td>\n",
       "      <td>NaN</td>\n",
       "      <td>...</td>\n",
       "      <td>NaN</td>\n",
       "      <td>NaN</td>\n",
       "      <td>NaN</td>\n",
       "      <td>NaN</td>\n",
       "      <td>NaN</td>\n",
       "      <td>NaN</td>\n",
       "      <td>NaN</td>\n",
       "      <td>NaN</td>\n",
       "      <td>NaN</td>\n",
       "      <td>NaN</td>\n",
       "    </tr>\n",
       "    <tr>\n",
       "      <th>3</th>\n",
       "      <td>f7d619a94f97c45</td>\n",
       "      <td>5</td>\n",
       "      <td>negative</td>\n",
       "      <td>0</td>\n",
       "      <td>0</td>\n",
       "      <td>0</td>\n",
       "      <td>NaN</td>\n",
       "      <td>NaN</td>\n",
       "      <td>NaN</td>\n",
       "      <td>NaN</td>\n",
       "      <td>...</td>\n",
       "      <td>NaN</td>\n",
       "      <td>NaN</td>\n",
       "      <td>NaN</td>\n",
       "      <td>NaN</td>\n",
       "      <td>NaN</td>\n",
       "      <td>NaN</td>\n",
       "      <td>NaN</td>\n",
       "      <td>NaN</td>\n",
       "      <td>NaN</td>\n",
       "      <td>NaN</td>\n",
       "    </tr>\n",
       "    <tr>\n",
       "      <th>4</th>\n",
       "      <td>d9e41465789c2b5</td>\n",
       "      <td>15</td>\n",
       "      <td>negative</td>\n",
       "      <td>0</td>\n",
       "      <td>0</td>\n",
       "      <td>0</td>\n",
       "      <td>NaN</td>\n",
       "      <td>NaN</td>\n",
       "      <td>NaN</td>\n",
       "      <td>NaN</td>\n",
       "      <td>...</td>\n",
       "      <td>NaN</td>\n",
       "      <td>NaN</td>\n",
       "      <td>NaN</td>\n",
       "      <td>NaN</td>\n",
       "      <td>NaN</td>\n",
       "      <td>NaN</td>\n",
       "      <td>NaN</td>\n",
       "      <td>NaN</td>\n",
       "      <td>NaN</td>\n",
       "      <td>NaN</td>\n",
       "    </tr>\n",
       "  </tbody>\n",
       "</table>\n",
       "<p>5 rows × 111 columns</p>\n",
       "</div>"
      ],
      "text/plain": [
       "        Patient ID  Patient age quantile SARS-Cov-2 exam result  \\\n",
       "0  44477f75e8169d2                    13               negative   \n",
       "1  126e9dd13932f68                    17               negative   \n",
       "2  a46b4402a0e5696                     8               negative   \n",
       "3  f7d619a94f97c45                     5               negative   \n",
       "4  d9e41465789c2b5                    15               negative   \n",
       "\n",
       "   Patient addmited to regular ward (1=yes, 0=no)  \\\n",
       "0                                               0   \n",
       "1                                               0   \n",
       "2                                               0   \n",
       "3                                               0   \n",
       "4                                               0   \n",
       "\n",
       "   Patient addmited to semi-intensive unit (1=yes, 0=no)  \\\n",
       "0                                                  0       \n",
       "1                                                  0       \n",
       "2                                                  0       \n",
       "3                                                  0       \n",
       "4                                                  0       \n",
       "\n",
       "   Patient addmited to intensive care unit (1=yes, 0=no)  Hematocrit  \\\n",
       "0                                                  0             NaN   \n",
       "1                                                  0        0.236515   \n",
       "2                                                  0             NaN   \n",
       "3                                                  0             NaN   \n",
       "4                                                  0             NaN   \n",
       "\n",
       "   Hemoglobin  Platelets  Mean platelet volume   ...  \\\n",
       "0         NaN        NaN                    NaN  ...   \n",
       "1    -0.02234  -0.517413               0.010677  ...   \n",
       "2         NaN        NaN                    NaN  ...   \n",
       "3         NaN        NaN                    NaN  ...   \n",
       "4         NaN        NaN                    NaN  ...   \n",
       "\n",
       "   Hb saturation (arterial blood gases)  pCO2 (arterial blood gas analysis)  \\\n",
       "0                                   NaN                                 NaN   \n",
       "1                                   NaN                                 NaN   \n",
       "2                                   NaN                                 NaN   \n",
       "3                                   NaN                                 NaN   \n",
       "4                                   NaN                                 NaN   \n",
       "\n",
       "   Base excess (arterial blood gas analysis)  \\\n",
       "0                                        NaN   \n",
       "1                                        NaN   \n",
       "2                                        NaN   \n",
       "3                                        NaN   \n",
       "4                                        NaN   \n",
       "\n",
       "   pH (arterial blood gas analysis)  Total CO2 (arterial blood gas analysis)  \\\n",
       "0                               NaN                                      NaN   \n",
       "1                               NaN                                      NaN   \n",
       "2                               NaN                                      NaN   \n",
       "3                               NaN                                      NaN   \n",
       "4                               NaN                                      NaN   \n",
       "\n",
       "   HCO3 (arterial blood gas analysis)  pO2 (arterial blood gas analysis)  \\\n",
       "0                                 NaN                                NaN   \n",
       "1                                 NaN                                NaN   \n",
       "2                                 NaN                                NaN   \n",
       "3                                 NaN                                NaN   \n",
       "4                                 NaN                                NaN   \n",
       "\n",
       "   Arteiral Fio2  Phosphor  ctO2 (arterial blood gas analysis)  \n",
       "0            NaN       NaN                                 NaN  \n",
       "1            NaN       NaN                                 NaN  \n",
       "2            NaN       NaN                                 NaN  \n",
       "3            NaN       NaN                                 NaN  \n",
       "4            NaN       NaN                                 NaN  \n",
       "\n",
       "[5 rows x 111 columns]"
      ]
     },
     "execution_count": 4,
     "metadata": {},
     "output_type": "execute_result"
    }
   ],
   "source": [
    "# initial exploring data\n",
    "df.head()"
   ]
  },
  {
   "cell_type": "code",
   "execution_count": 5,
   "metadata": {},
   "outputs": [
    {
     "data": {
      "text/plain": [
       "Index(['Patient ID', 'Patient age quantile', 'SARS-Cov-2 exam result',\n",
       "       'Patient addmited to regular ward (1=yes, 0=no)',\n",
       "       'Patient addmited to semi-intensive unit (1=yes, 0=no)',\n",
       "       'Patient addmited to intensive care unit (1=yes, 0=no)', 'Hematocrit',\n",
       "       'Hemoglobin', 'Platelets', 'Mean platelet volume ',\n",
       "       ...\n",
       "       'Hb saturation (arterial blood gases)',\n",
       "       'pCO2 (arterial blood gas analysis)',\n",
       "       'Base excess (arterial blood gas analysis)',\n",
       "       'pH (arterial blood gas analysis)',\n",
       "       'Total CO2 (arterial blood gas analysis)',\n",
       "       'HCO3 (arterial blood gas analysis)',\n",
       "       'pO2 (arterial blood gas analysis)', 'Arteiral Fio2', 'Phosphor',\n",
       "       'ctO2 (arterial blood gas analysis)'],\n",
       "      dtype='object', length=111)"
      ]
     },
     "execution_count": 5,
     "metadata": {},
     "output_type": "execute_result"
    }
   ],
   "source": [
    "df.columns"
   ]
  },
  {
   "cell_type": "code",
   "execution_count": 6,
   "metadata": {},
   "outputs": [],
   "source": [
    "# Patient ID isn't necessary\n",
    "df = df.drop(columns='Patient ID')"
   ]
  },
  {
   "cell_type": "code",
   "execution_count": 7,
   "metadata": {},
   "outputs": [
    {
     "data": {
      "text/plain": [
       "(array([], dtype=int64), array([], dtype=int64))"
      ]
     },
     "execution_count": 7,
     "metadata": {},
     "output_type": "execute_result"
    }
   ],
   "source": [
    "# Are there blank?\n",
    "np.where(df.applymap(lambda x: x == ''))"
   ]
  },
  {
   "cell_type": "code",
   "execution_count": 8,
   "metadata": {},
   "outputs": [
    {
     "name": "stdout",
     "output_type": "stream",
     "text": [
      "<class 'pandas.core.frame.DataFrame'>\n",
      "RangeIndex: 5644 entries, 0 to 5643\n",
      "Data columns (total 110 columns):\n",
      "Patient age quantile                                     5644 non-null int64\n",
      "SARS-Cov-2 exam result                                   5644 non-null object\n",
      "Patient addmited to regular ward (1=yes, 0=no)           5644 non-null int64\n",
      "Patient addmited to semi-intensive unit (1=yes, 0=no)    5644 non-null int64\n",
      "Patient addmited to intensive care unit (1=yes, 0=no)    5644 non-null int64\n",
      "Hematocrit                                               603 non-null float64\n",
      "Hemoglobin                                               603 non-null float64\n",
      "Platelets                                                602 non-null float64\n",
      "Mean platelet volume                                     599 non-null float64\n",
      "Red blood Cells                                          602 non-null float64\n",
      "Lymphocytes                                              602 non-null float64\n",
      "Mean corpuscular hemoglobin concentration (MCHC)         602 non-null float64\n",
      "Leukocytes                                               602 non-null float64\n",
      "Basophils                                                602 non-null float64\n",
      "Mean corpuscular hemoglobin (MCH)                        602 non-null float64\n",
      "Eosinophils                                              602 non-null float64\n",
      "Mean corpuscular volume (MCV)                            602 non-null float64\n",
      "Monocytes                                                601 non-null float64\n",
      "Red blood cell distribution width (RDW)                  602 non-null float64\n",
      "Serum Glucose                                            208 non-null float64\n",
      "Respiratory Syncytial Virus                              1354 non-null object\n",
      "Influenza A                                              1354 non-null object\n",
      "Influenza B                                              1354 non-null object\n",
      "Parainfluenza 1                                          1352 non-null object\n",
      "CoronavirusNL63                                          1352 non-null object\n",
      "Rhinovirus/Enterovirus                                   1352 non-null object\n",
      "Mycoplasma pneumoniae                                    0 non-null float64\n",
      "Coronavirus HKU1                                         1352 non-null object\n",
      "Parainfluenza 3                                          1352 non-null object\n",
      "Chlamydophila pneumoniae                                 1352 non-null object\n",
      "Adenovirus                                               1352 non-null object\n",
      "Parainfluenza 4                                          1352 non-null object\n",
      "Coronavirus229E                                          1352 non-null object\n",
      "CoronavirusOC43                                          1352 non-null object\n",
      "Inf A H1N1 2009                                          1352 non-null object\n",
      "Bordetella pertussis                                     1352 non-null object\n",
      "Metapneumovirus                                          1352 non-null object\n",
      "Parainfluenza 2                                          1352 non-null object\n",
      "Neutrophils                                              513 non-null float64\n",
      "Urea                                                     397 non-null float64\n",
      "Proteina C reativa mg/dL                                 506 non-null float64\n",
      "Creatinine                                               424 non-null float64\n",
      "Potassium                                                371 non-null float64\n",
      "Sodium                                                   370 non-null float64\n",
      "Influenza B, rapid test                                  820 non-null object\n",
      "Influenza A, rapid test                                  820 non-null object\n",
      "Alanine transaminase                                     225 non-null float64\n",
      "Aspartate transaminase                                   226 non-null float64\n",
      "Gamma-glutamyltransferase                                153 non-null float64\n",
      "Total Bilirubin                                          182 non-null float64\n",
      "Direct Bilirubin                                         182 non-null float64\n",
      "Indirect Bilirubin                                       182 non-null float64\n",
      "Alkaline phosphatase                                     144 non-null float64\n",
      "Ionized calcium                                          50 non-null float64\n",
      "Strepto A                                                332 non-null object\n",
      "Magnesium                                                40 non-null float64\n",
      "pCO2 (venous blood gas analysis)                         136 non-null float64\n",
      "Hb saturation (venous blood gas analysis)                136 non-null float64\n",
      "Base excess (venous blood gas analysis)                  136 non-null float64\n",
      "pO2 (venous blood gas analysis)                          136 non-null float64\n",
      "Fio2 (venous blood gas analysis)                         1 non-null float64\n",
      "Total CO2 (venous blood gas analysis)                    136 non-null float64\n",
      "pH (venous blood gas analysis)                           136 non-null float64\n",
      "HCO3 (venous blood gas analysis)                         136 non-null float64\n",
      "Rods #                                                   97 non-null float64\n",
      "Segmented                                                97 non-null float64\n",
      "Promyelocytes                                            97 non-null float64\n",
      "Metamyelocytes                                           97 non-null float64\n",
      "Myelocytes                                               97 non-null float64\n",
      "Myeloblasts                                              97 non-null float64\n",
      "Urine - Esterase                                         60 non-null object\n",
      "Urine - Aspect                                           70 non-null object\n",
      "Urine - pH                                               70 non-null object\n",
      "Urine - Hemoglobin                                       70 non-null object\n",
      "Urine - Bile pigments                                    70 non-null object\n",
      "Urine - Ketone Bodies                                    57 non-null object\n",
      "Urine - Nitrite                                          1 non-null object\n",
      "Urine - Density                                          70 non-null float64\n",
      "Urine - Urobilinogen                                     69 non-null object\n",
      "Urine - Protein                                          60 non-null object\n",
      "Urine - Sugar                                            0 non-null float64\n",
      "Urine - Leukocytes                                       70 non-null object\n",
      "Urine - Crystals                                         70 non-null object\n",
      "Urine - Red blood cells                                  70 non-null float64\n",
      "Urine - Hyaline cylinders                                67 non-null object\n",
      "Urine - Granular cylinders                               69 non-null object\n",
      "Urine - Yeasts                                           70 non-null object\n",
      "Urine - Color                                            70 non-null object\n",
      "Partial thromboplastin time (PTT)                        0 non-null float64\n",
      "Relationship (Patient/Normal)                            91 non-null float64\n",
      "International normalized ratio (INR)                     133 non-null float64\n",
      "Lactic Dehydrogenase                                     101 non-null float64\n",
      "Prothrombin time (PT), Activity                          0 non-null float64\n",
      "Vitamin B12                                              3 non-null float64\n",
      "Creatine phosphokinase (CPK)                             104 non-null float64\n",
      "Ferritin                                                 23 non-null float64\n",
      "Arterial Lactic Acid                                     27 non-null float64\n",
      "Lipase dosage                                            8 non-null float64\n",
      "D-Dimer                                                  0 non-null float64\n",
      "Albumin                                                  13 non-null float64\n",
      "Hb saturation (arterial blood gases)                     27 non-null float64\n",
      "pCO2 (arterial blood gas analysis)                       27 non-null float64\n",
      "Base excess (arterial blood gas analysis)                27 non-null float64\n",
      "pH (arterial blood gas analysis)                         27 non-null float64\n",
      "Total CO2 (arterial blood gas analysis)                  27 non-null float64\n",
      "HCO3 (arterial blood gas analysis)                       27 non-null float64\n",
      "pO2 (arterial blood gas analysis)                        27 non-null float64\n",
      "Arteiral Fio2                                            20 non-null float64\n",
      "Phosphor                                                 20 non-null float64\n",
      "ctO2 (arterial blood gas analysis)                       27 non-null float64\n",
      "dtypes: float64(70), int64(4), object(36)\n",
      "memory usage: 4.7+ MB\n"
     ]
    }
   ],
   "source": [
    "# Searching for NaNs\n",
    "df.info(verbose=True, null_counts=True)"
   ]
  },
  {
   "cell_type": "markdown",
   "metadata": {},
   "source": [
    "Let's apply a function to check nulls "
   ]
  },
  {
   "cell_type": "code",
   "execution_count": 9,
   "metadata": {},
   "outputs": [
    {
     "name": "stdout",
     "output_type": "stream",
     "text": [
      "Total and Percentage of NaN:\n",
      "                                     Total   Percent\n",
      "Prothrombin time (PT), Activity      5644  1.000000\n",
      "D-Dimer                              5644  1.000000\n",
      "Mycoplasma pneumoniae                5644  1.000000\n",
      "Urine - Sugar                        5644  1.000000\n",
      "Partial thromboplastin time (PTT)    5644  1.000000\n",
      "...                                   ...       ...\n",
      "Inf A H1N1 2009                      4292  0.760454\n",
      "Rhinovirus/Enterovirus               4292  0.760454\n",
      "Influenza A                          4290  0.760099\n",
      "Respiratory Syncytial Virus          4290  0.760099\n",
      "Influenza B                          4290  0.760099\n",
      "\n",
      "[105 rows x 2 columns]\n"
     ]
    }
   ],
   "source": [
    "def intitial_eda_checks(df):\n",
    "    '''\n",
    "    Thanks to: https://github.com/FredaXin/blog_posts/blob/master/creating_functions_for_EDA.md\n",
    "    Takes df\n",
    "    Checks nulls\n",
    "    '''\n",
    "    if df.isnull().sum().sum() > 0:\n",
    "        mask_total = df.isnull().sum().sort_values(ascending=False) \n",
    "        total = mask_total[mask_total > 0]\n",
    "\n",
    "        mask_percent = df.isnull().mean().sort_values(ascending=False) \n",
    "        percent = mask_percent[mask_percent > 0] \n",
    "\n",
    "        missing_data = pd.concat([total, percent], axis=1, keys=['Total', 'Percent'])\n",
    "    \n",
    "        print(f'Total and Percentage of NaN:\\n {missing_data}')\n",
    "    else: \n",
    "        print('No NaN found.')\n",
    "        \n",
    "intitial_eda_checks(df)"
   ]
  },
  {
   "cell_type": "markdown",
   "metadata": {},
   "source": [
    "Now another function to drop columns with 90% of NaNs or more."
   ]
  },
  {
   "cell_type": "code",
   "execution_count": 10,
   "metadata": {},
   "outputs": [],
   "source": [
    "def view_columns_w_many_nans(df, missing_percent):\n",
    "    '''\n",
    "    Thanks to: https://github.com/FredaXin/blog_posts/blob/master/creating_functions_for_EDA.md\n",
    "    Checks which columns have over specified percentage of missing values\n",
    "    Takes df, missing percentage\n",
    "    Returns columns as a list\n",
    "    '''\n",
    "    mask_percent = df.isnull().mean()\n",
    "    series = mask_percent[mask_percent > missing_percent]\n",
    "    columns = series.index.to_list()\n",
    "    print(columns) \n",
    "    return columns"
   ]
  },
  {
   "cell_type": "code",
   "execution_count": 11,
   "metadata": {},
   "outputs": [
    {
     "name": "stdout",
     "output_type": "stream",
     "text": [
      "['Serum Glucose', 'Mycoplasma pneumoniae', 'Neutrophils', 'Urea', 'Proteina C reativa mg/dL', 'Creatinine', 'Potassium', 'Sodium', 'Alanine transaminase', 'Aspartate transaminase', 'Gamma-glutamyltransferase\\xa0', 'Total Bilirubin', 'Direct Bilirubin', 'Indirect Bilirubin', 'Alkaline phosphatase', 'Ionized calcium\\xa0', 'Strepto A', 'Magnesium', 'pCO2 (venous blood gas analysis)', 'Hb saturation (venous blood gas analysis)', 'Base excess (venous blood gas analysis)', 'pO2 (venous blood gas analysis)', 'Fio2 (venous blood gas analysis)', 'Total CO2 (venous blood gas analysis)', 'pH (venous blood gas analysis)', 'HCO3 (venous blood gas analysis)', 'Rods #', 'Segmented', 'Promyelocytes', 'Metamyelocytes', 'Myelocytes', 'Myeloblasts', 'Urine - Esterase', 'Urine - Aspect', 'Urine - pH', 'Urine - Hemoglobin', 'Urine - Bile pigments', 'Urine - Ketone Bodies', 'Urine - Nitrite', 'Urine - Density', 'Urine - Urobilinogen', 'Urine - Protein', 'Urine - Sugar', 'Urine - Leukocytes', 'Urine - Crystals', 'Urine - Red blood cells', 'Urine - Hyaline cylinders', 'Urine - Granular cylinders', 'Urine - Yeasts', 'Urine - Color', 'Partial thromboplastin time\\xa0(PTT)\\xa0', 'Relationship (Patient/Normal)', 'International normalized ratio (INR)', 'Lactic Dehydrogenase', 'Prothrombin time (PT), Activity', 'Vitamin B12', 'Creatine phosphokinase\\xa0(CPK)\\xa0', 'Ferritin', 'Arterial Lactic Acid', 'Lipase dosage', 'D-Dimer', 'Albumin', 'Hb saturation (arterial blood gases)', 'pCO2 (arterial blood gas analysis)', 'Base excess (arterial blood gas analysis)', 'pH (arterial blood gas analysis)', 'Total CO2 (arterial blood gas analysis)', 'HCO3 (arterial blood gas analysis)', 'pO2 (arterial blood gas analysis)', 'Arteiral Fio2', 'Phosphor', 'ctO2 (arterial blood gas analysis)']\n"
     ]
    }
   ],
   "source": [
    "list_of_cols = view_columns_w_many_nans(df, .9)\n",
    "df0 = df.drop(columns=list_of_cols)\n",
    "#Here they are: "
   ]
  },
  {
   "cell_type": "code",
   "execution_count": 12,
   "metadata": {},
   "outputs": [],
   "source": [
    "# the dataset for task 1\n",
    "df1 = df0.drop(columns=['Patient addmited to regular ward (1=yes, 0=no)', \n",
    "                        'Patient addmited to semi-intensive unit (1=yes, 0=no)',\n",
    "                       'Patient addmited to intensive care unit (1=yes, 0=no)'])"
   ]
  },
  {
   "cell_type": "code",
   "execution_count": 13,
   "metadata": {},
   "outputs": [],
   "source": [
    "# replacing text data to numbers - negative: 0, positive: 1.\n",
    "df1['SARS-Cov-2 exam result'] = df1['SARS-Cov-2 exam result'].replace({'negative': 0, 'positive': 1})"
   ]
  },
  {
   "cell_type": "code",
   "execution_count": 14,
   "metadata": {},
   "outputs": [],
   "source": [
    "# get dummies because machine learning algorithms prefers numbers!\n",
    "df1_dummy = pd.get_dummies(df1)"
   ]
  },
  {
   "cell_type": "markdown",
   "metadata": {},
   "source": [
    "What features to choose? Let's go to the two methods."
   ]
  },
  {
   "cell_type": "markdown",
   "metadata": {},
   "source": [
    "# **1. Intuition from correlation**"
   ]
  },
  {
   "cell_type": "code",
   "execution_count": 15,
   "metadata": {},
   "outputs": [
    {
     "data": {
      "text/plain": [
       "SARS-Cov-2 exam result                              1.000000\n",
       "Monocytes                                           0.197333\n",
       "Red blood Cells                                     0.121320\n",
       "Mean platelet volume                                0.108836\n",
       "Hemoglobin                                          0.104775\n",
       "Hematocrit                                          0.099120\n",
       "Patient age quantile                                0.075244\n",
       "Mean corpuscular hemoglobin concentration (MCHC)    0.045820\n",
       "Rhinovirus/Enterovirus_not_detected                 0.015406\n",
       "Coronavirus229E_detected                            0.001640\n",
       "Bordetella pertussis_detected                      -0.006236\n",
       "Parainfluenza 1_detected                           -0.007639\n",
       "CoronavirusNL63_detected                           -0.009671\n",
       "CoronavirusOC43_detected                           -0.012479\n",
       "Chlamydophila pneumoniae_detected                  -0.013237\n",
       "Parainfluenza 3_detected                           -0.013955\n",
       "Lymphocytes                                        -0.015239\n",
       "Adenovirus_detected                                -0.015915\n",
       "Metapneumovirus_detected                           -0.016517\n",
       "Inf A H1N1 2009_not_detected                       -0.017104\n",
       "Influenza B, rapid test_positive                   -0.018200\n",
       "Influenza A_detected                               -0.018736\n",
       "Parainfluenza 4_detected                           -0.019251\n",
       "Coronavirus HKU1_detected                          -0.019752\n",
       "Respiratory Syncytial Virus_not_detected           -0.023565\n",
       "Influenza B_detected                               -0.023604\n",
       "Influenza A, rapid test_negative                   -0.024115\n",
       "Influenza B_not_detected                           -0.024476\n",
       "Coronavirus HKU1_not_detected                      -0.027525\n",
       "Parainfluenza 4_not_detected                       -0.027656\n",
       "Influenza B, rapid test_negative                   -0.028045\n",
       "Influenza A_not_detected                           -0.028049\n",
       "Metapneumovirus_not_detected                       -0.028310\n",
       "Adenovirus_not_detected                            -0.028441\n",
       "CoronavirusNL63_not_detected                       -0.028450\n",
       "Mean corpuscular hemoglobin (MCH)                  -0.028480\n",
       "Parainfluenza 3_not_detected                       -0.028833\n",
       "Chlamydophila pneumoniae_not_detected              -0.028963\n",
       "CoronavirusOC43_not_detected                       -0.029093\n",
       "Parainfluenza 1_not_detected                       -0.029744\n",
       "Bordetella pertussis_not_detected                  -0.029874\n",
       "Parainfluenza 2_not_detected                       -0.030134\n",
       "Coronavirus229E_not_detected                       -0.030357\n",
       "Influenza A, rapid test_positive                   -0.031941\n",
       "Respiratory Syncytial Virus_detected               -0.031941\n",
       "Red blood cell distribution width (RDW)            -0.039855\n",
       "Inf A H1N1 2009_detected                           -0.044030\n",
       "Mean corpuscular volume (MCV)                      -0.055232\n",
       "Basophils                                          -0.062994\n",
       "Rhinovirus/Enterovirus_detected                    -0.074639\n",
       "Eosinophils                                        -0.192609\n",
       "Platelets                                          -0.282268\n",
       "Leukocytes                                         -0.288508\n",
       "Name: SARS-Cov-2 exam result, dtype: float64"
      ]
     },
     "execution_count": 15,
     "metadata": {},
     "output_type": "execute_result"
    }
   ],
   "source": [
    "# correlation \n",
    "corr_matrix_df1 = df1_dummy.corr()\n",
    "\n",
    "corr_matrix_df1['SARS-Cov-2 exam result'].sort_values(ascending=False)"
   ]
  },
  {
   "cell_type": "markdown",
   "metadata": {},
   "source": [
    "Ok, now it starts the intuition part.\n",
    "\n",
    "I chose the following features: \n",
    "\n",
    "***Monocytes, Red blood Cells, Mean platelet volume, Hemoglobin, Hematocrit, Basophils, Eosinophils, \n",
    "Platelets and Leukocytes.***\n",
    "\n",
    "But why?\n",
    "\n",
    "* As we know, it's necessary to choose the the furthest values from zero. \n",
    "* Features seems to be blood components. So I eliminated *Rhinovirus/Enterovirus_detected* column to try set a pattern. \n",
    "* Finally, [there are reports](http:www.dw.com/pt-br/como-funciona-o-teste-rápido-de-coronavírus/a-52626671) that blood tests have been used to perform rapid coronavirus tests:\n",
    "\n",
    "> \"Realizam-se pesquisas em todo o mundo, e já estão disponíveis as primeiras abordagens promissoras para um teste rápido simplificado, semelhante ao teste da glicose no sangue.\n",
    "> Por exemplo, com o exame de uma gota de sangue, em apenas 15 minutos, o teste rápido apresentado pela Comissão Nacional de Saúde da China é capaz de detectar imunoglobulinas, os anticorpos que o corpo humano forma inicialmente quando ocorre uma nova infecção.\"\n",
    "\n",
    "Of course, I'm not assuming that this is an absolute truth. They're just clues to choose the features.\n",
    "\n",
    "--\n",
    "Notes:\n",
    "\n",
    "I tested the models with *Rhinovirus/Enterovirus_detected* and the others blood components out of the selected range, but on the first case it was indifferent and on the second case the algorithm performed worst.\n",
    "\n",
    "Rhinovirus/Enterovirus detection isn't necessarily useless. For instance, in view of the difficulty in performing coronavirus exams and depending on the resources, I came up with the following hypothesis:\n",
    "\n",
    "Since among the exams, the Rhinovirus/Enterovirus detection seems to be one that most correlates with exam results for the novel coronavirus, if a patient have certain symptoms, history, other specific informations etc and **Rhinovirus/Enterovirus is not detected**, is there probability of being COVID-19?"
   ]
  },
  {
   "cell_type": "code",
   "execution_count": 16,
   "metadata": {},
   "outputs": [],
   "source": [
    "# New DataFrame with target and selected features to plot correlation\n",
    "df1_new = df1_dummy[['SARS-Cov-2 exam result','Monocytes', 'Red blood Cells', 'Mean platelet volume ',\n",
    "                    'Hemoglobin', 'Hematocrit','Basophils','Eosinophils', 'Platelets', 'Leukocytes']]"
   ]
  },
  {
   "cell_type": "code",
   "execution_count": 17,
   "metadata": {},
   "outputs": [],
   "source": [
    "def heatmap_numeric_w_dependent_variable(df, dependent_variable):\n",
    "    '''\n",
    "    thanks to: https://github.com/FredaXin/blog_posts/blob/master/creating_functions_for_EDA.md\n",
    "    Takes df, a dependant variable as str\n",
    "    Returns a heatmap of all independent variables' correlations with dependent variable \n",
    "    '''\n",
    "    plt.figure(figsize=(8, 10))\n",
    "    g = sns.heatmap(df.corr()[[dependent_variable]].sort_values(by=dependent_variable), \n",
    "                    annot=True, \n",
    "                    cmap='coolwarm', \n",
    "                    vmin=-1,\n",
    "                    vmax=1) \n",
    "    return g"
   ]
  },
  {
   "cell_type": "code",
   "execution_count": 18,
   "metadata": {},
   "outputs": [
    {
     "data": {
      "text/plain": [
       "<matplotlib.axes._subplots.AxesSubplot at 0x7f07f9388e10>"
      ]
     },
     "execution_count": 18,
     "metadata": {},
     "output_type": "execute_result"
    },
    {
     "data": {
      "image/png": "[encoded data removed]",
      "text/plain": [
       "<Figure size 576x720 with 2 Axes>"
      ]
     },
     "metadata": {
      "needs_background": "light"
     },
     "output_type": "display_data"
    }
   ],
   "source": [
    "# plotting correlations with 'SARS-Cov-2 exam result' column\n",
    "heatmap_numeric_w_dependent_variable(df1_new, 'SARS-Cov-2 exam result')"
   ]
  },
  {
   "cell_type": "code",
   "execution_count": 19,
   "metadata": {},
   "outputs": [],
   "source": [
    "# defining features and target\n",
    "X1 = df1_new.drop(['SARS-Cov-2 exam result'], axis=1)\n",
    "\n",
    "y1 = df1_new['SARS-Cov-2 exam result']"
   ]
  },
  {
   "cell_type": "code",
   "execution_count": 20,
   "metadata": {},
   "outputs": [],
   "source": [
    "# imputation of missing values with multivariate imputation algorithm\n",
    "imp = IterativeImputer(max_iter=10, random_state=0)\n",
    "\n",
    "imp.fit(X1)\n",
    "\n",
    "X1 = imp.transform(X1)"
   ]
  },
  {
   "cell_type": "code",
   "execution_count": 21,
   "metadata": {},
   "outputs": [],
   "source": [
    "# scaling X1\n",
    "scaler = MinMaxScaler()\n",
    "\n",
    "scaler.fit(X1)\n",
    "\n",
    "X1 = scaler.transform(X1)"
   ]
  },
  {
   "cell_type": "code",
   "execution_count": 22,
   "metadata": {},
   "outputs": [],
   "source": [
    "# train test split\n",
    "\n",
    "X1_train, X1_test, y1_train, y1_test = train_test_split(X1, y1, random_state=33)     "
   ]
  },
  {
   "cell_type": "code",
   "execution_count": 23,
   "metadata": {},
   "outputs": [],
   "source": [
    "# LinearSVC\n",
    "clf = LinearSVC(random_state=0, tol=1e-5)\n",
    "\n",
    "clf.fit(X1_train, y1_train)\n",
    "\n",
    "y1_pred = clf.predict(X1_test)"
   ]
  },
  {
   "cell_type": "code",
   "execution_count": 24,
   "metadata": {},
   "outputs": [],
   "source": [
    "# cross-validation \n",
    "all_accuracies_clf_1 = cross_val_score(estimator=clf, X=X1_train, \n",
    "                                 y=y1_train, cv=5)"
   ]
  },
  {
   "cell_type": "code",
   "execution_count": 25,
   "metadata": {},
   "outputs": [],
   "source": [
    "# mean accuracy and standard deviation\n",
    "mean_acc_corrint = all_accuracies_clf_1.mean()*100\n",
    "std_acc_corrint = all_accuracies_clf_1.std()"
   ]
  },
  {
   "cell_type": "markdown",
   "metadata": {},
   "source": [
    "Now let's select features with a selector algorithm."
   ]
  },
  {
   "cell_type": "markdown",
   "metadata": {},
   "source": [
    "# **2. *SelectKBest***"
   ]
  },
  {
   "cell_type": "code",
   "execution_count": 26,
   "metadata": {},
   "outputs": [],
   "source": [
    "# defining features and target\n",
    "X2 = df1_dummy.drop(['SARS-Cov-2 exam result'], axis=1)\n",
    "\n",
    "y2 = df1_dummy['SARS-Cov-2 exam result']"
   ]
  },
  {
   "cell_type": "code",
   "execution_count": 27,
   "metadata": {},
   "outputs": [],
   "source": [
    "# I'll need this to apply SelectKBest algorithm \n",
    "X2_columns = X2.columns"
   ]
  },
  {
   "cell_type": "code",
   "execution_count": 28,
   "metadata": {},
   "outputs": [
    {
     "name": "stderr",
     "output_type": "stream",
     "text": [
      "/opt/conda/lib/python3.6/site-packages/sklearn/impute/_iterative.py:638: ConvergenceWarning: [IterativeImputer] Early stopping criterion not reached.\n",
      "  \" reached.\", ConvergenceWarning)\n"
     ]
    }
   ],
   "source": [
    "# imputation of missing values with multivariate imputation algorithm\n",
    "imp = IterativeImputer(max_iter=10, random_state=0)\n",
    "\n",
    "imp.fit(X2)\n",
    "\n",
    "X2 = imp.transform(X2)"
   ]
  },
  {
   "cell_type": "code",
   "execution_count": 29,
   "metadata": {},
   "outputs": [],
   "source": [
    "# scaling X2\n",
    "scaler = MinMaxScaler()\n",
    "\n",
    "scaler.fit(X2)\n",
    "\n",
    "X2 = scaler.transform(X2)"
   ]
  },
  {
   "cell_type": "code",
   "execution_count": 30,
   "metadata": {},
   "outputs": [],
   "source": [
    "# transforming X and y to DataFrame to apply SelectKbest and return the selected columns\n",
    "y2 = pd.DataFrame(data=y2, columns=['SARS-Cov-2 exam result'])\n",
    "\n",
    "X2 = pd.DataFrame(data=X2, columns=X2_columns) "
   ]
  },
  {
   "cell_type": "code",
   "execution_count": 31,
   "metadata": {},
   "outputs": [
    {
     "data": {
      "text/plain": [
       "SelectKBest(k=5, score_func=<function chi2 at 0x7f0800cbb1e0>)"
      ]
     },
     "execution_count": 31,
     "metadata": {},
     "output_type": "execute_result"
    }
   ],
   "source": [
    "# applying\n",
    "selector = SelectKBest(chi2, k=5)\n",
    "selector.fit(X2, y2)"
   ]
  },
  {
   "cell_type": "code",
   "execution_count": 32,
   "metadata": {},
   "outputs": [
    {
     "name": "stdout",
     "output_type": "stream",
     "text": [
      "(5644, 5)\n",
      "['Patient age quantile', 'Respiratory Syncytial Virus_detected', 'Rhinovirus/Enterovirus_detected', 'Inf A H1N1 2009_detected', 'Influenza A, rapid test_positive']\n"
     ]
    },
    {
     "data": {
      "text/plain": [
       "['Patient age quantile',\n",
       " 'Respiratory Syncytial Virus_detected',\n",
       " 'Rhinovirus/Enterovirus_detected',\n",
       " 'Inf A H1N1 2009_detected',\n",
       " 'Influenza A, rapid test_positive']"
      ]
     },
     "execution_count": 32,
     "metadata": {},
     "output_type": "execute_result"
    }
   ],
   "source": [
    "# selected columns\n",
    "# thanks to: https://stackoverflow.com/questions/46927545/get-feature-names-of-selectkbest-function-python\n",
    "X_new = selector.transform(X2)\n",
    "print(X_new.shape)\n",
    "\n",
    "X2.columns[selector.get_support(indices=True)]\n",
    "\n",
    "vector_names = list(X2.columns[selector.get_support(indices=True)])\n",
    "print(vector_names)\n",
    "\n",
    "X2.columns[selector.get_support(indices=True)].tolist()"
   ]
  },
  {
   "cell_type": "code",
   "execution_count": 33,
   "metadata": {},
   "outputs": [],
   "source": [
    "# assigning target\n",
    "y_new = np.ravel(y2)"
   ]
  },
  {
   "cell_type": "code",
   "execution_count": 34,
   "metadata": {},
   "outputs": [],
   "source": [
    "# train test split\n",
    "\n",
    "X_new_train, X_new_test, y_new_train, y_new_test = train_test_split(X_new, y_new, \n",
    "                                                                    random_state=33)                                                                     \n",
    "                                                                   "
   ]
  },
  {
   "cell_type": "code",
   "execution_count": 35,
   "metadata": {},
   "outputs": [],
   "source": [
    "# LinearSVC\n",
    "clf = LinearSVC(random_state=0, tol=1e-5)\n",
    "\n",
    "clf.fit(X_new_train, y_new_train)\n",
    "\n",
    "y_new_pred = clf.predict(X_new_test)"
   ]
  },
  {
   "cell_type": "code",
   "execution_count": 36,
   "metadata": {},
   "outputs": [],
   "source": [
    "# cross-validation \n",
    "all_accuracies_clf_2 = cross_val_score(estimator=clf, X=X_new_train, \n",
    "                                 y=y_new_train, cv=5)"
   ]
  },
  {
   "cell_type": "code",
   "execution_count": 37,
   "metadata": {},
   "outputs": [],
   "source": [
    "# mean accuracy and standard deviation\n",
    "mean_acc_selector = all_accuracies_clf_2.mean()*100\n",
    "std_acc_selector = all_accuracies_clf_2.std()"
   ]
  },
  {
   "cell_type": "markdown",
   "metadata": {},
   "source": [
    "# **Resuming the results:**"
   ]
  },
  {
   "cell_type": "code",
   "execution_count": 38,
   "metadata": {},
   "outputs": [
    {
     "name": "stdout",
     "output_type": "stream",
     "text": [
      "The average accuracy of the first model is 90.12520898400976 %\n",
      "and the standard deviation is 0.0005719437212361597 .\n",
      "\n",
      "The average accuracy of the second model is 90.10159623312427 %\n",
      "and the standard deviation is 0.00043999400470594205 .\n"
     ]
    }
   ],
   "source": [
    "print('The average accuracy of the first model is', mean_acc_corrint, '%')\n",
    "print('and the standard deviation is', std_acc_corrint,'.')\n",
    "print()\n",
    "print('The average accuracy of the second model is', mean_acc_selector, '%')\n",
    "print('and the standard deviation is', std_acc_selector, '.')"
   ]
  },
  {
   "cell_type": "markdown",
   "metadata": {},
   "source": [
    "As we saw above, both methods had good performance. But the first was a little better, proving that our intuition and knowledge of the world can be useful to obtain good results in models of Machine Learning.\n",
    "\n",
    "Finally, it's always good to remember:"
   ]
  },
  {
   "cell_type": "code",
   "execution_count": 39,
   "metadata": {},
   "outputs": [
    {
     "name": "stdout",
     "output_type": "stream",
     "text": [
      "STAY HOME, IF YOU CAN.\n"
     ]
    }
   ],
   "source": [
    "print('STAY HOME, IF YOU CAN.')"
   ]
  }
 ],
 "metadata": {
  "kernelspec": {
   "display_name": "Python 3",
   "language": "python",
   "name": "python3"
  },
  "language_info": {
   "codemirror_mode": {
    "name": "ipython",
    "version": 3
   },
   "file_extension": ".py",
   "mimetype": "text/x-python",
   "name": "python",
   "nbconvert_exporter": "python",
   "pygments_lexer": "ipython3",
   "version": "3.6.6"
  }
 },
 "nbformat": 4,
 "nbformat_minor": 4
}
